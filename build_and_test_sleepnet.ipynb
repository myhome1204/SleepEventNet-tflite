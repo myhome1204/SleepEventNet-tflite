{
 "cells": [
  {
   "cell_type": "markdown",
   "id": "75a394d5",
   "metadata": {},
   "source": [
    "# SleepEventNet 모델 구축 및 추론 파이프라인\n",
    "\n",
    "이 노트북은 수면 중 발생 가능한 이벤트 (이갈이, 코골이, 기침, 잠꼬대, 정상 여부)를 분류하는 `SleepEventNet` 모델을 다음과 같은 순서로 구성하고 실행합니다\n",
    "\n",
    "1. **TensorFlow 기반 모델 생성**\n",
    "2. **TensorFlow 모델 추론 (test set)**\n",
    "3. **TFLite 변환**\n",
    "4. **TFLite 모델 추론**\n"
   ]
  },
  {
   "cell_type": "code",
   "execution_count": 1,
   "id": "5c99d28d",
   "metadata": {},
   "outputs": [],
   "source": [
    "from src.build_model import build_tensorflow_model,convert_tflite,load_tensorflow_model\n",
    "from src.utils import predict_with_tf_model,predict_with_tflite_model"
   ]
  },
  {
   "cell_type": "markdown",
   "id": "5d3dab31",
   "metadata": {},
   "source": [
    "## Step 1: TensorFlow 모델 생성\n",
    "YAMNet을 불러온 뒤 사용자 정의 분류 레이어(SleepEventClassificationLayer)를 연결하여 최종 모델을 생성.\n"
   ]
  },
  {
   "cell_type": "code",
   "execution_count": 2,
   "id": "e7a4920c",
   "metadata": {},
   "outputs": [
    {
     "name": "stdout",
     "output_type": "stream",
     "text": [
      "WARNING:tensorflow:From c:\\Users\\myhom\\anaconda3\\envs\\sleep_env\\Lib\\site-packages\\keras\\src\\backend\\tensorflow\\core.py:232: The name tf.placeholder is deprecated. Please use tf.compat.v1.placeholder instead.\n",
      "\n"
     ]
    },
    {
     "name": "stderr",
     "output_type": "stream",
     "text": [
      "WARNING:tensorflow:From c:\\Users\\myhom\\anaconda3\\envs\\sleep_env\\Lib\\site-packages\\keras\\src\\backend\\tensorflow\\core.py:232: The name tf.placeholder is deprecated. Please use tf.compat.v1.placeholder instead.\n",
      "\n"
     ]
    },
    {
     "data": {
      "text/html": [
       "<pre style=\"white-space:pre;overflow-x:auto;line-height:normal;font-family:Menlo,'DejaVu Sans Mono',consolas,'Courier New',monospace\"><span style=\"font-weight: bold\">Model: \"functional\"</span>\n",
       "</pre>\n"
      ],
      "text/plain": [
       "\u001b[1mModel: \"functional\"\u001b[0m\n"
      ]
     },
     "metadata": {},
     "output_type": "display_data"
    },
    {
     "data": {
      "text/html": [
       "<pre style=\"white-space:pre;overflow-x:auto;line-height:normal;font-family:Menlo,'DejaVu Sans Mono',consolas,'Courier New',monospace\">┏━━━━━━━━━━━━━━━━━━━━━━━━━━━━━━━━━┳━━━━━━━━━━━━━━━━━━━━━━━━┳━━━━━━━━━━━━━━━┓\n",
       "┃<span style=\"font-weight: bold\"> Layer (type)                    </span>┃<span style=\"font-weight: bold\"> Output Shape           </span>┃<span style=\"font-weight: bold\">       Param # </span>┃\n",
       "┡━━━━━━━━━━━━━━━━━━━━━━━━━━━━━━━━━╇━━━━━━━━━━━━━━━━━━━━━━━━╇━━━━━━━━━━━━━━━┩\n",
       "│ waveform (<span style=\"color: #0087ff; text-decoration-color: #0087ff\">InputLayer</span>)           │ (<span style=\"color: #00d7ff; text-decoration-color: #00d7ff\">None</span>, <span style=\"color: #00d7ff; text-decoration-color: #00d7ff\">None</span>)           │             <span style=\"color: #00af00; text-decoration-color: #00af00\">0</span> │\n",
       "├─────────────────────────────────┼────────────────────────┼───────────────┤\n",
       "│ yamnet_wrapper (<span style=\"color: #0087ff; text-decoration-color: #0087ff\">YamnetWrapper</span>)  │ [(<span style=\"color: #00d7ff; text-decoration-color: #00d7ff\">None</span>, <span style=\"color: #00af00; text-decoration-color: #00af00\">521</span>), (<span style=\"color: #00d7ff; text-decoration-color: #00d7ff\">None</span>,   │             <span style=\"color: #00af00; text-decoration-color: #00af00\">0</span> │\n",
       "│                                 │ <span style=\"color: #00af00; text-decoration-color: #00af00\">1024</span>), (<span style=\"color: #00d7ff; text-decoration-color: #00d7ff\">None</span>, <span style=\"color: #00af00; text-decoration-color: #00af00\">64</span>)]     │               │\n",
       "├─────────────────────────────────┼────────────────────────┼───────────────┤\n",
       "│ sleep_event_classification_lay… │ (<span style=\"color: #00af00; text-decoration-color: #00af00\">1</span>, <span style=\"color: #00af00; text-decoration-color: #00af00\">5</span>)                 │             <span style=\"color: #00af00; text-decoration-color: #00af00\">0</span> │\n",
       "│ (<span style=\"color: #0087ff; text-decoration-color: #0087ff\">SleepEventClassificationLayer</span>) │                        │               │\n",
       "└─────────────────────────────────┴────────────────────────┴───────────────┘\n",
       "</pre>\n"
      ],
      "text/plain": [
       "┏━━━━━━━━━━━━━━━━━━━━━━━━━━━━━━━━━┳━━━━━━━━━━━━━━━━━━━━━━━━┳━━━━━━━━━━━━━━━┓\n",
       "┃\u001b[1m \u001b[0m\u001b[1mLayer (type)                   \u001b[0m\u001b[1m \u001b[0m┃\u001b[1m \u001b[0m\u001b[1mOutput Shape          \u001b[0m\u001b[1m \u001b[0m┃\u001b[1m \u001b[0m\u001b[1m      Param #\u001b[0m\u001b[1m \u001b[0m┃\n",
       "┡━━━━━━━━━━━━━━━━━━━━━━━━━━━━━━━━━╇━━━━━━━━━━━━━━━━━━━━━━━━╇━━━━━━━━━━━━━━━┩\n",
       "│ waveform (\u001b[38;5;33mInputLayer\u001b[0m)           │ (\u001b[38;5;45mNone\u001b[0m, \u001b[38;5;45mNone\u001b[0m)           │             \u001b[38;5;34m0\u001b[0m │\n",
       "├─────────────────────────────────┼────────────────────────┼───────────────┤\n",
       "│ yamnet_wrapper (\u001b[38;5;33mYamnetWrapper\u001b[0m)  │ [(\u001b[38;5;45mNone\u001b[0m, \u001b[38;5;34m521\u001b[0m), (\u001b[38;5;45mNone\u001b[0m,   │             \u001b[38;5;34m0\u001b[0m │\n",
       "│                                 │ \u001b[38;5;34m1024\u001b[0m), (\u001b[38;5;45mNone\u001b[0m, \u001b[38;5;34m64\u001b[0m)]     │               │\n",
       "├─────────────────────────────────┼────────────────────────┼───────────────┤\n",
       "│ sleep_event_classification_lay… │ (\u001b[38;5;34m1\u001b[0m, \u001b[38;5;34m5\u001b[0m)                 │             \u001b[38;5;34m0\u001b[0m │\n",
       "│ (\u001b[38;5;33mSleepEventClassificationLayer\u001b[0m) │                        │               │\n",
       "└─────────────────────────────────┴────────────────────────┴───────────────┘\n"
      ]
     },
     "metadata": {},
     "output_type": "display_data"
    },
    {
     "data": {
      "text/html": [
       "<pre style=\"white-space:pre;overflow-x:auto;line-height:normal;font-family:Menlo,'DejaVu Sans Mono',consolas,'Courier New',monospace\"><span style=\"font-weight: bold\"> Total params: </span><span style=\"color: #00af00; text-decoration-color: #00af00\">0</span> (0.00 B)\n",
       "</pre>\n"
      ],
      "text/plain": [
       "\u001b[1m Total params: \u001b[0m\u001b[38;5;34m0\u001b[0m (0.00 B)\n"
      ]
     },
     "metadata": {},
     "output_type": "display_data"
    },
    {
     "data": {
      "text/html": [
       "<pre style=\"white-space:pre;overflow-x:auto;line-height:normal;font-family:Menlo,'DejaVu Sans Mono',consolas,'Courier New',monospace\"><span style=\"font-weight: bold\"> Trainable params: </span><span style=\"color: #00af00; text-decoration-color: #00af00\">0</span> (0.00 B)\n",
       "</pre>\n"
      ],
      "text/plain": [
       "\u001b[1m Trainable params: \u001b[0m\u001b[38;5;34m0\u001b[0m (0.00 B)\n"
      ]
     },
     "metadata": {},
     "output_type": "display_data"
    },
    {
     "data": {
      "text/html": [
       "<pre style=\"white-space:pre;overflow-x:auto;line-height:normal;font-family:Menlo,'DejaVu Sans Mono',consolas,'Courier New',monospace\"><span style=\"font-weight: bold\"> Non-trainable params: </span><span style=\"color: #00af00; text-decoration-color: #00af00\">0</span> (0.00 B)\n",
       "</pre>\n"
      ],
      "text/plain": [
       "\u001b[1m Non-trainable params: \u001b[0m\u001b[38;5;34m0\u001b[0m (0.00 B)\n"
      ]
     },
     "metadata": {},
     "output_type": "display_data"
    },
    {
     "name": "stderr",
     "output_type": "stream",
     "text": [
      "WARNING:absl:You are saving your model as an HDF5 file via `model.save()` or `keras.saving.save_model(model)`. This file format is considered legacy. We recommend using instead the native Keras format, e.g. `model.save('my_model.keras')` or `keras.saving.save_model(model, 'my_model.keras')`. \n"
     ]
    },
    {
     "data": {
      "text/plain": [
       "<Functional name=functional, built=True>"
      ]
     },
     "execution_count": 2,
     "metadata": {},
     "output_type": "execute_result"
    }
   ],
   "source": [
    "build_tensorflow_model(yamnet_model_path= 'model/yamnet_tensorflow2_model',\n",
    "                       save_path='model/SleepEventNet.h5')"
   ]
  },
  {
   "cell_type": "markdown",
   "id": "cd359d5f",
   "metadata": {},
   "source": [
    "## Step 2: TensorFlow 모델 추론\n",
    "생성된 모델을 로드하여 수면 이벤트 샘플 데이터에 대해 예측을 수행.\n",
    "\n",
    "\n",
    "입력은 20초 소리(wav)이며, 출력은 **[이갈이, 코골이, 기침, 수면 중 말소리, 정상 여부]에 대한 float 점수** 5개 리스트"
   ]
  },
  {
   "cell_type": "code",
   "execution_count": 4,
   "id": "e1279544",
   "metadata": {},
   "outputs": [
    {
     "name": "stdout",
     "output_type": "stream",
     "text": [
      "WARNING:tensorflow:From c:\\Users\\myhom\\anaconda3\\envs\\sleep_env\\Lib\\site-packages\\keras\\src\\backend\\tensorflow\\core.py:232: The name tf.placeholder is deprecated. Please use tf.compat.v1.placeholder instead.\n",
      "\n"
     ]
    },
    {
     "name": "stderr",
     "output_type": "stream",
     "text": [
      "WARNING:tensorflow:From c:\\Users\\myhom\\anaconda3\\envs\\sleep_env\\Lib\\site-packages\\keras\\src\\backend\\tensorflow\\core.py:232: The name tf.placeholder is deprecated. Please use tf.compat.v1.placeholder instead.\n",
      "\n",
      "WARNING:absl:No training configuration found in the save file, so the model was *not* compiled. Compile it manually.\n"
     ]
    },
    {
     "name": "stdout",
     "output_type": "stream",
     "text": [
      "bruxism_score: 11.7600\n",
      "snoring_score: 0.0000\n",
      "cough_score: 0.0000\n",
      "speech_score: 0.0000\n",
      "is_normal: 0.0000\n",
      "\n",
      "bruxism_score: 0.0000\n",
      "snoring_score: 0.0000\n",
      "cough_score: 9.0000\n",
      "speech_score: 0.0000\n",
      "is_normal: 0.0000\n",
      "\n",
      "bruxism_score: 0.0000\n",
      "snoring_score: 7.9800\n",
      "cough_score: 0.0000\n",
      "speech_score: 0.0000\n",
      "is_normal: 0.0000\n",
      "\n",
      "bruxism_score: 0.0000\n",
      "snoring_score: 0.0000\n",
      "cough_score: 0.0000\n",
      "speech_score: 30.0000\n",
      "is_normal: 0.0000\n",
      "\n",
      "bruxism_score: 0.0000\n",
      "snoring_score: 0.0000\n",
      "cough_score: 0.0000\n",
      "speech_score: 0.0000\n",
      "is_normal: 1.0000\n",
      "\n"
     ]
    },
    {
     "data": {
      "text/plain": [
       "<tf.Tensor: shape=(1, 5), dtype=float32, numpy=array([[0., 0., 0., 0., 1.]], dtype=float32)>"
      ]
     },
     "execution_count": 4,
     "metadata": {},
     "output_type": "execute_result"
    }
   ],
   "source": [
    "model = load_tensorflow_model(tensorflow_model_path='model/SleepEventNet.h5')\n",
    "\n",
    "predict_with_tf_model(tensorflow_model= model,\n",
    "                      wav_file_path='data/20_seconds/bruxism/1/test1.wav')\n",
    "\n",
    "predict_with_tf_model(tensorflow_model= model,\n",
    "                      wav_file_path='data/20_seconds/cough/3/test2.wav')\n",
    "\n",
    "predict_with_tf_model(tensorflow_model= model,\n",
    "                      wav_file_path='data/20_seconds/snoring/3/test3.wav')\n",
    "\n",
    "predict_with_tf_model(tensorflow_model= model,\n",
    "                      wav_file_path='data/20_seconds/speech/1/test1.wav')\n",
    "\n",
    "predict_with_tf_model(tensorflow_model= model,\n",
    "                      wav_file_path='data/20_seconds/normal/segment_5.wav')"
   ]
  },
  {
   "cell_type": "markdown",
   "id": "1c4d7c8c",
   "metadata": {},
   "source": [
    "## Step 3: TensorFlow 모델 → TFLite 변환\n",
    "저장된 `.h5` 형식의 모델을 `.tflite` 포맷으로 변환하여 경량화.\n"
   ]
  },
  {
   "cell_type": "code",
   "execution_count": 5,
   "id": "97eb5241",
   "metadata": {},
   "outputs": [
    {
     "name": "stderr",
     "output_type": "stream",
     "text": [
      "WARNING:absl:No training configuration found in the save file, so the model was *not* compiled. Compile it manually.\n"
     ]
    },
    {
     "name": "stdout",
     "output_type": "stream",
     "text": [
      "INFO:tensorflow:Assets written to: C:\\Users\\myhom\\AppData\\Local\\Temp\\tmphruk7b5x\\assets\n"
     ]
    },
    {
     "name": "stderr",
     "output_type": "stream",
     "text": [
      "INFO:tensorflow:Assets written to: C:\\Users\\myhom\\AppData\\Local\\Temp\\tmphruk7b5x\\assets\n"
     ]
    },
    {
     "name": "stdout",
     "output_type": "stream",
     "text": [
      "Saved artifact at 'C:\\Users\\myhom\\AppData\\Local\\Temp\\tmphruk7b5x'. The following endpoints are available:\n",
      "\n",
      "* Endpoint 'serve'\n",
      "  args_0 (POSITIONAL_ONLY): TensorSpec(shape=(None, None), dtype=tf.float32, name='waveform')\n",
      "Output Type:\n",
      "  TensorSpec(shape=(1, 5), dtype=tf.float32, name=None)\n",
      "Captures:\n",
      "  2350424118608: TensorSpec(shape=(), dtype=tf.resource, name=None)\n",
      "  2350424116880: TensorSpec(shape=(32,), dtype=tf.float32, name=None)\n",
      "  2350424118416: TensorSpec(shape=(), dtype=tf.resource, name=None)\n",
      "  2350424118224: TensorSpec(shape=(), dtype=tf.resource, name=None)\n",
      "  2350424118032: TensorSpec(shape=(), dtype=tf.resource, name=None)\n",
      "  2350424117648: TensorSpec(shape=(), dtype=tf.resource, name=None)\n",
      "  2350424115920: TensorSpec(shape=(32,), dtype=tf.float32, name=None)\n",
      "  2350424117456: TensorSpec(shape=(), dtype=tf.resource, name=None)\n",
      "  2350424117264: TensorSpec(shape=(), dtype=tf.resource, name=None)\n",
      "  2350424117072: TensorSpec(shape=(), dtype=tf.resource, name=None)\n",
      "  2350424116688: TensorSpec(shape=(), dtype=tf.resource, name=None)\n",
      "  2350424115536: TensorSpec(shape=(64,), dtype=tf.float32, name=None)\n",
      "  2350424116496: TensorSpec(shape=(), dtype=tf.resource, name=None)\n",
      "  2350424116304: TensorSpec(shape=(), dtype=tf.resource, name=None)\n",
      "  2350424116112: TensorSpec(shape=(), dtype=tf.resource, name=None)\n",
      "  2350424115728: TensorSpec(shape=(), dtype=tf.resource, name=None)\n",
      "  2350424114576: TensorSpec(shape=(64,), dtype=tf.float32, name=None)\n",
      "  2350424115344: TensorSpec(shape=(), dtype=tf.resource, name=None)\n",
      "  2350424115152: TensorSpec(shape=(), dtype=tf.resource, name=None)\n",
      "  2350424114960: TensorSpec(shape=(), dtype=tf.resource, name=None)\n",
      "  2350424114768: TensorSpec(shape=(), dtype=tf.resource, name=None)\n",
      "  2350424113424: TensorSpec(shape=(128,), dtype=tf.float32, name=None)\n",
      "  2350424114384: TensorSpec(shape=(), dtype=tf.resource, name=None)\n",
      "  2350424114192: TensorSpec(shape=(), dtype=tf.resource, name=None)\n",
      "  2350424114000: TensorSpec(shape=(), dtype=tf.resource, name=None)\n",
      "  2350424113808: TensorSpec(shape=(), dtype=tf.resource, name=None)\n",
      "  2350421539920: TensorSpec(shape=(128,), dtype=tf.float32, name=None)\n",
      "  2350424113232: TensorSpec(shape=(), dtype=tf.resource, name=None)\n",
      "  2350421540688: TensorSpec(shape=(), dtype=tf.resource, name=None)\n",
      "  2350424113616: TensorSpec(shape=(), dtype=tf.resource, name=None)\n",
      "  2350421540496: TensorSpec(shape=(), dtype=tf.resource, name=None)\n",
      "  2350421538768: TensorSpec(shape=(128,), dtype=tf.float32, name=None)\n",
      "  2350421539728: TensorSpec(shape=(), dtype=tf.resource, name=None)\n",
      "  2350421540304: TensorSpec(shape=(), dtype=tf.resource, name=None)\n",
      "  2350421540112: TensorSpec(shape=(), dtype=tf.resource, name=None)\n",
      "  2350421539536: TensorSpec(shape=(), dtype=tf.resource, name=None)\n",
      "  2350421537808: TensorSpec(shape=(128,), dtype=tf.float32, name=None)\n",
      "  2350421539344: TensorSpec(shape=(), dtype=tf.resource, name=None)\n",
      "  2350421539152: TensorSpec(shape=(), dtype=tf.resource, name=None)\n",
      "  2350421538960: TensorSpec(shape=(), dtype=tf.resource, name=None)\n",
      "  2350421538576: TensorSpec(shape=(), dtype=tf.resource, name=None)\n",
      "  2350421536848: TensorSpec(shape=(256,), dtype=tf.float32, name=None)\n",
      "  2350421538384: TensorSpec(shape=(), dtype=tf.resource, name=None)\n",
      "  2350421538192: TensorSpec(shape=(), dtype=tf.resource, name=None)\n",
      "  2350421538000: TensorSpec(shape=(), dtype=tf.resource, name=None)\n",
      "  2350421537616: TensorSpec(shape=(), dtype=tf.resource, name=None)\n",
      "  2350421535888: TensorSpec(shape=(256,), dtype=tf.float32, name=None)\n",
      "  2350421537424: TensorSpec(shape=(), dtype=tf.resource, name=None)\n",
      "  2350421537232: TensorSpec(shape=(), dtype=tf.resource, name=None)\n",
      "  2350421537040: TensorSpec(shape=(), dtype=tf.resource, name=None)\n",
      "  2350421536656: TensorSpec(shape=(), dtype=tf.resource, name=None)\n",
      "  2350421535504: TensorSpec(shape=(256,), dtype=tf.float32, name=None)\n",
      "  2350421536464: TensorSpec(shape=(), dtype=tf.resource, name=None)\n",
      "  2350421536272: TensorSpec(shape=(), dtype=tf.resource, name=None)\n",
      "  2350421536080: TensorSpec(shape=(), dtype=tf.resource, name=None)\n",
      "  2350421535696: TensorSpec(shape=(), dtype=tf.resource, name=None)\n",
      "  2350421534544: TensorSpec(shape=(256,), dtype=tf.float32, name=None)\n",
      "  2350421535312: TensorSpec(shape=(), dtype=tf.resource, name=None)\n",
      "  2350421535120: TensorSpec(shape=(), dtype=tf.resource, name=None)\n",
      "  2350421534928: TensorSpec(shape=(), dtype=tf.resource, name=None)\n",
      "  2350421534736: TensorSpec(shape=(), dtype=tf.resource, name=None)\n",
      "  2350421533392: TensorSpec(shape=(512,), dtype=tf.float32, name=None)\n",
      "  2350421534352: TensorSpec(shape=(), dtype=tf.resource, name=None)\n",
      "  2350421534160: TensorSpec(shape=(), dtype=tf.resource, name=None)\n",
      "  2350421533968: TensorSpec(shape=(), dtype=tf.resource, name=None)\n",
      "  2350421533776: TensorSpec(shape=(), dtype=tf.resource, name=None)\n",
      "  2350421532240: TensorSpec(shape=(512,), dtype=tf.float32, name=None)\n",
      "  2350421533200: TensorSpec(shape=(), dtype=tf.resource, name=None)\n",
      "  2350421533008: TensorSpec(shape=(), dtype=tf.resource, name=None)\n",
      "  2350421533584: TensorSpec(shape=(), dtype=tf.resource, name=None)\n",
      "  2350421532816: TensorSpec(shape=(), dtype=tf.resource, name=None)\n",
      "  2350421528016: TensorSpec(shape=(512,), dtype=tf.float32, name=None)\n",
      "  2350421532048: TensorSpec(shape=(), dtype=tf.resource, name=None)\n",
      "  2350421532624: TensorSpec(shape=(), dtype=tf.resource, name=None)\n",
      "  2350421532432: TensorSpec(shape=(), dtype=tf.resource, name=None)\n",
      "  2350421529360: TensorSpec(shape=(), dtype=tf.resource, name=None)\n",
      "  2350421528784: TensorSpec(shape=(512,), dtype=tf.float32, name=None)\n",
      "  2350421531664: TensorSpec(shape=(), dtype=tf.resource, name=None)\n",
      "  2350421527632: TensorSpec(shape=(), dtype=tf.resource, name=None)\n",
      "  2350421524944: TensorSpec(shape=(), dtype=tf.resource, name=None)\n",
      "  2350421528400: TensorSpec(shape=(), dtype=tf.resource, name=None)\n",
      "  2350421530512: TensorSpec(shape=(512,), dtype=tf.float32, name=None)\n",
      "  2350421528592: TensorSpec(shape=(), dtype=tf.resource, name=None)\n",
      "  2350421524752: TensorSpec(shape=(), dtype=tf.resource, name=None)\n",
      "  2350421526480: TensorSpec(shape=(), dtype=tf.resource, name=None)\n",
      "  2350421526864: TensorSpec(shape=(), dtype=tf.resource, name=None)\n",
      "  2350421525520: TensorSpec(shape=(512,), dtype=tf.float32, name=None)\n",
      "  2350421529168: TensorSpec(shape=(), dtype=tf.resource, name=None)\n",
      "  2350421528976: TensorSpec(shape=(), dtype=tf.resource, name=None)\n",
      "  2350421527056: TensorSpec(shape=(), dtype=tf.resource, name=None)\n",
      "  2350421527824: TensorSpec(shape=(), dtype=tf.resource, name=None)\n",
      "  2350421530128: TensorSpec(shape=(512,), dtype=tf.float32, name=None)\n",
      "  2350421527248: TensorSpec(shape=(), dtype=tf.resource, name=None)\n",
      "  2350421530704: TensorSpec(shape=(), dtype=tf.resource, name=None)\n",
      "  2350421526096: TensorSpec(shape=(), dtype=tf.resource, name=None)\n",
      "  2350421530320: TensorSpec(shape=(), dtype=tf.resource, name=None)\n",
      "  2350421529936: TensorSpec(shape=(512,), dtype=tf.float32, name=None)\n",
      "  2350421531280: TensorSpec(shape=(), dtype=tf.resource, name=None)\n",
      "  2350421531856: TensorSpec(shape=(), dtype=tf.resource, name=None)\n",
      "  2350421526672: TensorSpec(shape=(), dtype=tf.resource, name=None)\n",
      "  2350421531088: TensorSpec(shape=(), dtype=tf.resource, name=None)\n",
      "  2350421525712: TensorSpec(shape=(512,), dtype=tf.float32, name=None)\n",
      "  2350421526288: TensorSpec(shape=(), dtype=tf.resource, name=None)\n",
      "  2350421529552: TensorSpec(shape=(), dtype=tf.resource, name=None)\n",
      "  2350421530896: TensorSpec(shape=(), dtype=tf.resource, name=None)\n",
      "  2350421528208: TensorSpec(shape=(), dtype=tf.resource, name=None)\n",
      "  2350346955920: TensorSpec(shape=(512,), dtype=tf.float32, name=None)\n",
      "  2350421524560: TensorSpec(shape=(), dtype=tf.resource, name=None)\n",
      "  2350421525136: TensorSpec(shape=(), dtype=tf.resource, name=None)\n",
      "  2350421525904: TensorSpec(shape=(), dtype=tf.resource, name=None)\n",
      "  2350346955536: TensorSpec(shape=(), dtype=tf.resource, name=None)\n",
      "  2350346955344: TensorSpec(shape=(512,), dtype=tf.float32, name=None)\n",
      "  2350346956112: TensorSpec(shape=(), dtype=tf.resource, name=None)\n",
      "  2350346953040: TensorSpec(shape=(), dtype=tf.resource, name=None)\n",
      "  2350346955152: TensorSpec(shape=(), dtype=tf.resource, name=None)\n",
      "  2350346955728: TensorSpec(shape=(), dtype=tf.resource, name=None)\n",
      "  2350346958992: TensorSpec(shape=(512,), dtype=tf.float32, name=None)\n",
      "  2350346953424: TensorSpec(shape=(), dtype=tf.resource, name=None)\n",
      "  2350346956304: TensorSpec(shape=(), dtype=tf.resource, name=None)\n",
      "  2350346956688: TensorSpec(shape=(), dtype=tf.resource, name=None)\n",
      "  2350346957264: TensorSpec(shape=(), dtype=tf.resource, name=None)\n",
      "  2350346958800: TensorSpec(shape=(1024,), dtype=tf.float32, name=None)\n",
      "  2350346957840: TensorSpec(shape=(), dtype=tf.resource, name=None)\n",
      "  2350346957648: TensorSpec(shape=(), dtype=tf.resource, name=None)\n",
      "  2350346957456: TensorSpec(shape=(), dtype=tf.resource, name=None)\n",
      "  2350346956496: TensorSpec(shape=(), dtype=tf.resource, name=None)\n",
      "  2350346960336: TensorSpec(shape=(1024,), dtype=tf.float32, name=None)\n",
      "  2350346958032: TensorSpec(shape=(), dtype=tf.resource, name=None)\n",
      "  2350346957072: TensorSpec(shape=(), dtype=tf.resource, name=None)\n",
      "  2350346958224: TensorSpec(shape=(), dtype=tf.resource, name=None)\n",
      "  2350346958608: TensorSpec(shape=(), dtype=tf.resource, name=None)\n",
      "  2350346960720: TensorSpec(shape=(1024,), dtype=tf.float32, name=None)\n",
      "  2350346958416: TensorSpec(shape=(), dtype=tf.resource, name=None)\n",
      "  2350346959568: TensorSpec(shape=(), dtype=tf.resource, name=None)\n",
      "  2350346960144: TensorSpec(shape=(), dtype=tf.resource, name=None)\n",
      "  2350346959760: TensorSpec(shape=(), dtype=tf.resource, name=None)\n",
      "  2350346959376: TensorSpec(shape=(), dtype=tf.resource, name=None)\n",
      "  2350424118800: TensorSpec(shape=(), dtype=tf.int32, name=None)\n",
      "  2350424129168: TensorSpec(shape=(13, 3, 3), dtype=tf.float32, name=None)\n",
      "  2350424119376: TensorSpec(shape=(), dtype=tf.int32, name=None)\n",
      "  2350424129360: TensorSpec(shape=(13,), dtype=tf.float32, name=None)\n",
      "  2350424127824: TensorSpec(shape=(), dtype=tf.int32, name=None)\n",
      "  2350424128976: TensorSpec(shape=(), dtype=tf.int32, name=None)\n",
      "  2350424128784: TensorSpec(shape=(), dtype=tf.int32, name=None)\n",
      "  2350424128592: TensorSpec(shape=(), dtype=tf.int32, name=None)\n",
      "  2350424128208: TensorSpec(shape=(), dtype=tf.int32, name=None)\n",
      "  2350424127632: TensorSpec(shape=(3, 3, 3), dtype=tf.float32, name=None)\n",
      "  2350424128016: TensorSpec(shape=(), dtype=tf.int32, name=None)\n",
      "  2350424127440: TensorSpec(shape=(3,), dtype=tf.float32, name=None)\n",
      "  2350424126096: TensorSpec(shape=(), dtype=tf.int32, name=None)\n",
      "  2350424127248: TensorSpec(shape=(), dtype=tf.int32, name=None)\n",
      "  2350424127056: TensorSpec(shape=(), dtype=tf.int32, name=None)\n",
      "  2350424126864: TensorSpec(shape=(), dtype=tf.int32, name=None)\n",
      "  2350424126480: TensorSpec(shape=(), dtype=tf.int32, name=None)\n",
      "  2350424125904: TensorSpec(shape=(1, 1, 3), dtype=tf.float32, name=None)\n",
      "  2350424126288: TensorSpec(shape=(), dtype=tf.int32, name=None)\n",
      "  2350424125712: TensorSpec(shape=(1,), dtype=tf.float32, name=None)\n",
      "  2350424124368: TensorSpec(shape=(), dtype=tf.int32, name=None)\n",
      "  2350424125520: TensorSpec(shape=(), dtype=tf.int32, name=None)\n",
      "  2350424125328: TensorSpec(shape=(), dtype=tf.int32, name=None)\n",
      "  2350424125136: TensorSpec(shape=(), dtype=tf.int32, name=None)\n",
      "  2350424124752: TensorSpec(shape=(), dtype=tf.int32, name=None)\n",
      "  2350424124176: TensorSpec(shape=(6, 2, 3), dtype=tf.float32, name=None)\n",
      "  2350424124560: TensorSpec(shape=(), dtype=tf.int32, name=None)\n",
      "  2350424123984: TensorSpec(shape=(6,), dtype=tf.float32, name=None)\n",
      "  2350424122640: TensorSpec(shape=(), dtype=tf.int32, name=None)\n",
      "  2350424123792: TensorSpec(shape=(), dtype=tf.int32, name=None)\n",
      "  2350424123600: TensorSpec(shape=(), dtype=tf.int32, name=None)\n",
      "  2350424123408: TensorSpec(shape=(), dtype=tf.int32, name=None)\n"
     ]
    }
   ],
   "source": [
    "convert_tflite(tensorflow_model_path= 'model/SleepEventNet.h5', \n",
    "               save_path= 'model/sleep_evnt_model_tflite.tflite')"
   ]
  },
  {
   "cell_type": "markdown",
   "id": "39c1435b",
   "metadata": {},
   "source": [
    "## Step 4: TFLite 모델 추론\n",
    "변환된 TFLite 모델을 이용하여, 이전 TensorFlow 모델과 동일한 입력 데이터에 대해 추론을 수행.\n",
    "\n",
    "입력은 20초 소리(wav)이며, 출력은 **[이갈이, 코골이, 기침, 수면 중 말소리, 정상 여부]에 대한 float 점수** 5개 리스트"
   ]
  },
  {
   "cell_type": "code",
   "execution_count": 2,
   "id": "6c258ede",
   "metadata": {},
   "outputs": [
    {
     "name": "stdout",
     "output_type": "stream",
     "text": [
      "bruxism_score: 11.7600\n",
      "snoring_score: 0.0000\n",
      "cough_score: 0.0000\n",
      "speech_score: 0.0000\n",
      "is_normal: 0.0000\n",
      "\n",
      "bruxism_score: 0.0000\n",
      "snoring_score: 0.0000\n",
      "cough_score: 9.0000\n",
      "speech_score: 0.0000\n",
      "is_normal: 0.0000\n",
      "\n",
      "bruxism_score: 0.0000\n",
      "snoring_score: 7.9800\n",
      "cough_score: 0.0000\n",
      "speech_score: 0.0000\n",
      "is_normal: 0.0000\n",
      "\n",
      "bruxism_score: 0.0000\n",
      "snoring_score: 0.0000\n",
      "cough_score: 0.0000\n",
      "speech_score: 30.0000\n",
      "is_normal: 0.0000\n",
      "\n",
      "bruxism_score: 0.0000\n",
      "snoring_score: 0.0000\n",
      "cough_score: 0.0000\n",
      "speech_score: 0.0000\n",
      "is_normal: 1.0000\n",
      "\n"
     ]
    }
   ],
   "source": [
    "predict_with_tflite_model(tflite_model_path='model/sleep_evnt_model_tflite.tflite',\n",
    "                      wav_file_path='data/20_seconds/bruxism/1/test1.wav')\n",
    "\n",
    "predict_with_tflite_model(tflite_model_path='model/sleep_evnt_model_tflite.tflite',\n",
    "                      wav_file_path='data/20_seconds/cough/3/test2.wav')\n",
    "\n",
    "predict_with_tflite_model(tflite_model_path='model/sleep_evnt_model_tflite.tflite',\n",
    "                      wav_file_path='data/20_seconds/snoring/3/test3.wav')\n",
    "\n",
    "predict_with_tflite_model(tflite_model_path='model/sleep_evnt_model_tflite.tflite',\n",
    "                      wav_file_path='data/20_seconds/speech/1/test1.wav')\n",
    "\n",
    "predict_with_tflite_model(tflite_model_path='model/sleep_evnt_model_tflite.tflite',\n",
    "                      wav_file_path='data/20_seconds/normal/segment_5.wav')\n"
   ]
  }
 ],
 "metadata": {
  "kernelspec": {
   "display_name": "sleep_env",
   "language": "python",
   "name": "python3"
  },
  "language_info": {
   "codemirror_mode": {
    "name": "ipython",
    "version": 3
   },
   "file_extension": ".py",
   "mimetype": "text/x-python",
   "name": "python",
   "nbconvert_exporter": "python",
   "pygments_lexer": "ipython3",
   "version": "3.11.13"
  }
 },
 "nbformat": 4,
 "nbformat_minor": 5
}
